{
  "nbformat": 4,
  "nbformat_minor": 0,
  "metadata": {
    "colab": {
      "provenance": [],
      "toc_visible": true,
      "collapsed_sections": [
        "6Ug5bWTvl3Qo"
      ]
    },
    "kernelspec": {
      "name": "python3",
      "display_name": "Python 3"
    },
    "language_info": {
      "name": "python"
    }
  },
  "cells": [
    {
      "cell_type": "markdown",
      "source": [
        "# Kaggle Competition:\n",
        "Predict the House Prices using advanced regression techniques\n",
        "\n",
        "\n",
        "\n"
      ],
      "metadata": {
        "id": "6Ug5bWTvl3Qo"
      }
    },
    {
      "cell_type": "markdown",
      "source": [
        "# Import Required Packages\n",
        "\n",
        "---\n",
        "\n"
      ],
      "metadata": {
        "id": "aXlkTGxTZ8RK"
      }
    },
    {
      "cell_type": "code",
      "source": [
        "import pandas as pd\n",
        "import numpy as np\n",
        "import seaborn as sns\n",
        "import matplotlib.pyplot as plt\n",
        "import matplotlib as mpl\n",
        "from sklearn.decomposition import PCA\n",
        "from sklearn.preprocessing import StandardScaler\n",
        "\n",
        "# Random Forest packages\n",
        "from sklearn.ensemble import RandomForestRegressor\n",
        "from sklearn.model_selection import train_test_split\n",
        "from sklearn.metrics import mean_squared_error, r2_score,make_scorer\n",
        "from sklearn.model_selection import cross_val_score\n",
        "from sklearn import metrics"
      ],
      "metadata": {
        "id": "JLDSBNzNmZkx"
      },
      "execution_count": null,
      "outputs": []
    },
    {
      "cell_type": "markdown",
      "source": [
        "Import google drive library to load csv files:"
      ],
      "metadata": {
        "id": "X53VDg8ujtGt"
      }
    },
    {
      "cell_type": "code",
      "source": [
        "from google.colab import drive\n",
        "drive.mount('/content/drive')"
      ],
      "metadata": {
        "id": "7yeZLcpUjsr4",
        "colab": {
          "base_uri": "https://localhost:8080/"
        },
        "outputId": "b2065201-e198-4e00-ca3a-97e3fdbdb914"
      },
      "execution_count": null,
      "outputs": [
        {
          "output_type": "stream",
          "name": "stdout",
          "text": [
            "Drive already mounted at /content/drive; to attempt to forcibly remount, call drive.mount(\"/content/drive\", force_remount=True).\n"
          ]
        }
      ]
    },
    {
      "cell_type": "code",
      "source": [
        "!pwd"
      ],
      "metadata": {
        "id": "fBee6pAOnebz",
        "colab": {
          "base_uri": "https://localhost:8080/"
        },
        "outputId": "4dfcbec4-b9ca-46be-cc1d-5642ac596ac3"
      },
      "execution_count": null,
      "outputs": [
        {
          "output_type": "stream",
          "name": "stdout",
          "text": [
            "/content/drive/My Drive/Colab_Notebooks/Kaggle/Price_Prediction\n"
          ]
        }
      ]
    },
    {
      "cell_type": "markdown",
      "source": [
        "Change path directory to redirect to data folder:"
      ],
      "metadata": {
        "id": "-FwZRdR_pVHs"
      }
    },
    {
      "cell_type": "code",
      "source": [
        "%cd /content/drive/MyDrive/Colab_Notebooks/Kaggle/Price_Prediction\n",
        "!ls data"
      ],
      "metadata": {
        "id": "4MIXsPpJo1yJ",
        "colab": {
          "base_uri": "https://localhost:8080/"
        },
        "outputId": "872310ae-e4ad-455c-bd15-5a6c95696072"
      },
      "execution_count": null,
      "outputs": [
        {
          "output_type": "stream",
          "name": "stdout",
          "text": [
            "/content/drive/MyDrive/Colab_Notebooks/Kaggle/Price_Prediction\n",
            "test.csv  train.csv\n"
          ]
        }
      ]
    },
    {
      "cell_type": "markdown",
      "source": [
        "# Read datasets - train.csv and test.csv\n",
        "Datasets will be read from **google drive** path.\n",
        "Data path is set to '/MyDrive/Colab_Notebooks/Kaggle/Price_Prediction/data/'\n",
        "---\n",
        "\n"
      ],
      "metadata": {
        "id": "4HK863xPaBtF"
      }
    },
    {
      "cell_type": "code",
      "source": [
        "#data_path = '/MyDrive/Colab_Notebooks/Kaggle/Price_Prediction/data/'"
      ],
      "metadata": {
        "id": "HLACdXjkkZQs"
      },
      "execution_count": null,
      "outputs": []
    },
    {
      "cell_type": "code",
      "execution_count": null,
      "metadata": {
        "id": "e_8vRjABluuB"
      },
      "outputs": [],
      "source": [
        "# Read train.csv and test.csv\n",
        "train_df = pd.read_csv( 'data/train.csv');\n",
        "test_df = pd.read_csv('data/test.csv');"
      ]
    },
    {
      "cell_type": "code",
      "source": [
        "#print(train_df.describe())\n",
        "#print(test_df.describe())"
      ],
      "metadata": {
        "id": "xrlPVqBEa5eI"
      },
      "execution_count": null,
      "outputs": []
    },
    {
      "cell_type": "markdown",
      "source": [
        "# Correlation and Heatmap\n",
        "\n",
        "---\n",
        "\n"
      ],
      "metadata": {
        "id": "kSPQChBddF8K"
      }
    },
    {
      "cell_type": "code",
      "source": [
        "corrMat = train_df.corr()\n",
        "#corrMat"
      ],
      "metadata": {
        "id": "JthDp-80ZQFP"
      },
      "execution_count": null,
      "outputs": []
    },
    {
      "cell_type": "code",
      "source": [
        "plt.figure(figsize=(15,15))\n",
        "sns.heatmap(corrMat, vmax=1,square=True, cmap=\"YlGnBu\")\n",
        "plt.title(\"Correlation Matrix\")"
      ],
      "metadata": {
        "id": "kJZW3YZDdQvF",
        "colab": {
          "base_uri": "https://localhost:8080/",
          "height": 877
        },
        "outputId": "38735041-c48d-463e-9a0b-12bb31fb446f"
      },
      "execution_count": null,
      "outputs": [
        {
          "output_type": "execute_result",
          "data": {
            "text/plain": [
              "Text(0.5, 1.0, 'Correlation Matrix')"
            ]
          },
          "metadata": {},
          "execution_count": 191
        },
        {
          "output_type": "display_data",
          "data": {
            "text/plain": [
              "<Figure size 1080x1080 with 2 Axes>"
            ],
            "image/png": "[encoded data removed]"
          },
          "metadata": {
            "needs_background": "light"
          }
        }
      ]
    },
    {
      "cell_type": "markdown",
      "source": [
        "# Preprocess train.csv\n",
        "\n",
        "---\n",
        "\n"
      ],
      "metadata": {
        "id": "3Y3MAuUf2DAt"
      }
    },
    {
      "cell_type": "markdown",
      "source": [
        "## Imputing Missing Values in train.csv\n"
      ],
      "metadata": {
        "id": "7_taQoS90ig7"
      }
    },
    {
      "cell_type": "code",
      "source": [
        "# Replacing NA values in LotFrontage column with the mean value of the column data\n",
        "meanValueLF = np.round(train_df['LotFrontage'].mean(), 2)\n",
        "train_df['LotFrontage'].fillna(meanValueLF, inplace = True);\n",
        "\n",
        "# Replace Alley column value NA with Unknown\n",
        "train_df['Alley'] = train_df['Alley'].replace(np.nan, 'Unknown')\n",
        "\n",
        "# Imputing NA values in MasVnrArea column with mode value\n",
        "train_df['MasVnrArea'].fillna(train_df['MasVnrArea'].mode(), inplace = True)\n",
        "train_df['MasVnrArea'] = train_df['MasVnrArea'].replace(np.nan, 0)\n",
        "\n",
        "# Dropping rows with NA values in GarageYrBlt\n",
        "train_df.dropna(subset=['GarageYrBlt'], inplace = True)\n",
        "\n",
        "#train_df_x.to_csv('testaru.csv')"
      ],
      "metadata": {
        "id": "mksbHpmQOeVP"
      },
      "execution_count": null,
      "outputs": []
    },
    {
      "cell_type": "markdown",
      "source": [
        "## Change \"object\" categorical columns into numerical categorical columns in train.csv\n"
      ],
      "metadata": {
        "id": "oZcyKjEPsNAH"
      }
    },
    {
      "cell_type": "code",
      "source": [
        "trainObjCol = list(train_df.select_dtypes(include=['object']).columns)\n",
        "for c in trainObjCol:\n",
        "  train_df[c] = train_df[c].astype('category').cat.codes"
      ],
      "metadata": {
        "id": "b5yHYye8KhiA"
      },
      "execution_count": null,
      "outputs": []
    },
    {
      "cell_type": "markdown",
      "source": [
        "## Dividing training dataset into x and y\n",
        "\n",
        "---\n",
        "\n"
      ],
      "metadata": {
        "id": "1W01YBxMhzAl"
      }
    },
    {
      "cell_type": "code",
      "source": [
        "# divide train data in x and y\n",
        "train_df_y = train_df['SalePrice']\n",
        "train_df_x = train_df.drop('SalePrice', axis=1)"
      ],
      "metadata": {
        "id": "gVWrkKgnh3dl"
      },
      "execution_count": null,
      "outputs": []
    },
    {
      "cell_type": "code",
      "source": [
        "# Drop the ID column\n",
        "train_df_x.drop('Id', axis = 1, inplace = True)"
      ],
      "metadata": {
        "id": "AS0PVBLuIOUg"
      },
      "execution_count": null,
      "outputs": []
    },
    {
      "cell_type": "markdown",
      "source": [
        "## Applying standard scaler on train.csv"
      ],
      "metadata": {
        "id": "JWZg2Iu_iPNG"
      }
    },
    {
      "cell_type": "code",
      "source": [
        "scalar = StandardScaler()\n",
        "train_df_X = scalar.fit_transform(train_df_x)"
      ],
      "metadata": {
        "id": "VFGL8NYriT1_"
      },
      "execution_count": null,
      "outputs": []
    },
    {
      "cell_type": "markdown",
      "source": [
        "# Preprocess test.csv\n",
        "\n",
        "---\n",
        "\n"
      ],
      "metadata": {
        "id": "Uk9iJMsL5Lj8"
      }
    },
    {
      "cell_type": "markdown",
      "source": [
        "## Imputing Missing Values in Test dataset"
      ],
      "metadata": {
        "id": "7BdEZVd8tKjH"
      }
    },
    {
      "cell_type": "code",
      "source": [
        "# Replacing NA values in LotFrontage column with the mean value of the column data\n",
        "meanValueLFtest = np.round(test_df['LotFrontage'].mean(), 2)\n",
        "test_df['LotFrontage'].fillna(meanValueLFtest, inplace = True);\n",
        "\n",
        "# Replace Alley column value NA with Unknown\n",
        "test_df['Alley'] = test_df['Alley'].replace(np.nan, 'Unknown')\n",
        "\n",
        "# Imputing NA values in MasVnrArea column with mode value\n",
        "test_df['MasVnrArea'].fillna(test_df['MasVnrArea'].mode(), inplace = True)\n",
        "test_df['MasVnrArea'] = test_df['MasVnrArea'].replace(np.nan, 0)\n",
        "\n",
        "# Dropping rows with NA values in GarageYrBlt\n",
        "test_df.dropna(subset=['GarageYrBlt'], inplace = True)"
      ],
      "metadata": {
        "id": "Nu7yVkyWtHDg"
      },
      "execution_count": null,
      "outputs": []
    },
    {
      "cell_type": "markdown",
      "source": [
        "## Change \"object\" categorical columns into numerical categorical columns in test.csv"
      ],
      "metadata": {
        "id": "qs_wndQK6yYU"
      }
    },
    {
      "cell_type": "code",
      "source": [
        "testObjCol = list(test_df.select_dtypes(include=['object']).columns)\n",
        "for c in testObjCol:\n",
        "  test_df[c] = test_df[c].astype('category').cat.codes"
      ],
      "metadata": {
        "id": "Rsww-0Av2XXB"
      },
      "execution_count": null,
      "outputs": []
    },
    {
      "cell_type": "code",
      "source": [
        "mask = test_df.isnull()\n",
        "nan_records = test_df.loc[mask.any(axis=1), mask.any(axis=0)]\n",
        "nan_columns = nan_records.columns\n",
        "nan_columns"
      ],
      "metadata": {
        "id": "uChOHpTmcEjA",
        "colab": {
          "base_uri": "https://localhost:8080/"
        },
        "outputId": "e3158da8-5a1b-4be9-bb0c-8642e154e0c5"
      },
      "execution_count": null,
      "outputs": [
        {
          "output_type": "execute_result",
          "data": {
            "text/plain": [
              "Index(['BsmtFinSF1', 'BsmtFinSF2', 'BsmtUnfSF', 'TotalBsmtSF', 'BsmtFullBath',\n",
              "       'BsmtHalfBath'],\n",
              "      dtype='object')"
            ]
          },
          "metadata": {},
          "execution_count": 202
        }
      ]
    },
    {
      "cell_type": "code",
      "source": [
        "for c in nan_columns:\n",
        "  test_df[c] = test_df[c].replace(np.nan, 0)"
      ],
      "metadata": {
        "id": "KLdxFjx1pzKC"
      },
      "execution_count": null,
      "outputs": []
    },
    {
      "cell_type": "code",
      "source": [
        "# Capture the ID column from test dataset into a separate dataframe\n",
        "test_id = pd.DataFrame(test_df['Id'])\n",
        "# Drop the ID column\n",
        "test_df.drop('Id', axis = 1, inplace = True)"
      ],
      "metadata": {
        "id": "SYUBSENmHlKR"
      },
      "execution_count": null,
      "outputs": []
    },
    {
      "cell_type": "markdown",
      "source": [
        "## Applying standard scaler on test.csv"
      ],
      "metadata": {
        "id": "gVU7DOcS7Bk6"
      }
    },
    {
      "cell_type": "code",
      "source": [
        "scalar = StandardScaler()\n",
        "test_df_X = scalar.fit_transform(test_df)"
      ],
      "metadata": {
        "id": "Dqj8cnBd7Dnh"
      },
      "execution_count": null,
      "outputs": []
    },
    {
      "cell_type": "markdown",
      "source": [
        "# Principle Component Analysis\n",
        "\n",
        "---\n",
        "train_df_X is the scaled dataset having 79 original features.\n"
      ],
      "metadata": {
        "id": "6ZM33wCKsuAR"
      }
    },
    {
      "cell_type": "code",
      "source": [
        "pca=PCA()\n",
        "pca_org = pca.fit_transform(train_df_X)\n",
        "pca_cv = pca.get_covariance()\n",
        "explained_variance=pca.explained_variance_ratio_"
      ],
      "metadata": {
        "id": "1HiEvO-4rGoQ"
      },
      "execution_count": null,
      "outputs": []
    },
    {
      "cell_type": "markdown",
      "source": [
        "Plotting explained variance from PCA:"
      ],
      "metadata": {
        "id": "RnMW7_yWu3h-"
      }
    },
    {
      "cell_type": "code",
      "source": [
        "with plt.style.context('dark_background'):\n",
        "    plt.figure(figsize=(10, 10))\n",
        "    plt.bar(range(79),explained_variance, alpha=0.5,align='center', label='individual explained variance' )\n",
        "    plt.xlabel('Principal components')\n",
        "    plt.ylabel('Explained variance ratio')\n",
        "    plt.legend()\n",
        "    plt.tight_layout()\n",
        "\n",
        "    # range(79) used because number of features in the data is 79"
      ],
      "metadata": {
        "id": "vzAoAlldu70W",
        "colab": {
          "base_uri": "https://localhost:8080/",
          "height": 729
        },
        "outputId": "7b6baa63-1773-488f-8f50-2c082e6245ca"
      },
      "execution_count": null,
      "outputs": [
        {
          "output_type": "display_data",
          "data": {
            "text/plain": [
              "<Figure size 720x720 with 1 Axes>"
            ],
            "image/png": "[encoded data removed]"
          },
          "metadata": {}
        }
      ]
    },
    {
      "cell_type": "markdown",
      "source": [
        "Selecting principle components that explains 95% of variance in data."
      ],
      "metadata": {
        "id": "dQavUOif7cHp"
      }
    },
    {
      "cell_type": "code",
      "source": [
        "cumulative_variance_ratio = np.cumsum(explained_variance)\n",
        "num_components = np.argmax(cumulative_variance_ratio > 0.95) + 1\n",
        "print(\"{} number of components which explaons 95% of variance in data.\".format( num_components))"
      ],
      "metadata": {
        "id": "VIWFlX6A7Jl0",
        "colab": {
          "base_uri": "https://localhost:8080/"
        },
        "outputId": "2cb4c8be-fd2c-4cb2-ed4c-3224b818cb5c"
      },
      "execution_count": null,
      "outputs": [
        {
          "output_type": "stream",
          "name": "stdout",
          "text": [
            "59 number of components which explaons 95% of variance in data.\n"
          ]
        }
      ]
    },
    {
      "cell_type": "code",
      "source": [
        "loadings = pca.components_\n",
        "loadings_df = pd.DataFrame(loadings.T, columns=pd.DataFrame(train_df_X).columns)\n",
        "#print(loadings_df)\n",
        "feature_list = []\n",
        "for i in range(num_components):\n",
        "    top_features = list(loadings_df.iloc[:, i].abs().sort_values(ascending=False).index[:2])\n",
        "    #print('Top 5 features for PC{}: {}'.format(i+1, top_features.tolist()))\n",
        "    for i in top_features:\n",
        "      feature_list.append(i)\n",
        "    #print(list(top_features))"
      ],
      "metadata": {
        "id": "LvBqI67CAlIn"
      },
      "execution_count": null,
      "outputs": []
    },
    {
      "cell_type": "markdown",
      "source": [
        "The variable **final_features** contain the number of features to be considered for modeling."
      ],
      "metadata": {
        "id": "bw6A0AeOsfpW"
      }
    },
    {
      "cell_type": "code",
      "source": [
        "final_features = list(set(feature_list))\n",
        "print(\"{} features from the original dataset will be used for modeling.\".format(len(final_features)))"
      ],
      "metadata": {
        "id": "vWUdFVGQGLjw",
        "colab": {
          "base_uri": "https://localhost:8080/"
        },
        "outputId": "b9132dc7-93d1-44ff-a212-288ba702c193"
      },
      "execution_count": null,
      "outputs": [
        {
          "output_type": "stream",
          "name": "stdout",
          "text": [
            "62 features from the original dataset will be used for modeling.\n"
          ]
        }
      ]
    },
    {
      "cell_type": "markdown",
      "source": [
        "Using number of components from previous step to transform the original features and plot the explained variance."
      ],
      "metadata": {
        "id": "g9OIfqG87q2o"
      }
    },
    {
      "cell_type": "code",
      "source": [
        "pca_n=PCA(n_components=num_components)\n",
        "pca_new = pca_n.fit_transform(train_df_X)\n",
        "pca_n_cv = pca_n.get_covariance()\n",
        "explained_variance_new=pca_n.explained_variance_ratio_"
      ],
      "metadata": {
        "id": "PXPwxIMYxxQP"
      },
      "execution_count": null,
      "outputs": []
    },
    {
      "cell_type": "code",
      "source": [
        "with plt.style.context('dark_background'):\n",
        "    plt.figure(figsize=(8, 8))\n",
        "    plt.bar(range(num_components),explained_variance_new, alpha=0.5,align='center', label='individual explained variance' )\n",
        "    plt.xlabel('Principal components')\n",
        "    plt.ylabel('Explained variance ratio')\n",
        "    plt.legend()\n",
        "    plt.tight_layout()"
      ],
      "metadata": {
        "id": "FZovC-fIySIj",
        "colab": {
          "base_uri": "https://localhost:8080/",
          "height": 585
        },
        "outputId": "7cf10f4e-9c31-412e-e7e6-81d7ebe5bacd"
      },
      "execution_count": null,
      "outputs": [
        {
          "output_type": "display_data",
          "data": {
            "text/plain": [
              "<Figure size 576x576 with 1 Axes>"
            ],
            "image/png": "[encoded data removed]"
          },
          "metadata": {}
        }
      ]
    },
    {
      "cell_type": "markdown",
      "source": [
        "# Data Modeling"
      ],
      "metadata": {
        "id": "EKkvWfLRuKr6"
      }
    },
    {
      "cell_type": "code",
      "source": [
        "train_sel = train_df_X[:,final_features]\n",
        "test_sel = test_df_X[:,final_features]"
      ],
      "metadata": {
        "id": "cWwyFJoJuOi1"
      },
      "execution_count": null,
      "outputs": []
    },
    {
      "cell_type": "markdown",
      "source": [
        "Since **test.csv** does not contain the target variable, below steps are performed to proceed with the modeling:\n",
        "\n",
        "*   The train dataset will be split for training and predicting pupose.\n",
        "*   This will be done to find the RMSE value of the model.\n",
        "*   The model will be used to predict the value from initial test data.\n",
        "\n",
        "\n",
        "\n",
        "\n"
      ],
      "metadata": {
        "id": "Zi7inqcYw5JK"
      }
    },
    {
      "cell_type": "code",
      "source": [
        "X_train, X_test, y_train, y_test = train_test_split(train_sel, train_df_y, test_size=0.3, random_state=42, shuffle = True)"
      ],
      "metadata": {
        "id": "bCCEtNOxxskb"
      },
      "execution_count": null,
      "outputs": []
    },
    {
      "cell_type": "markdown",
      "source": [
        "## Random Forest"
      ],
      "metadata": {
        "id": "Sr2xFGoiDulo"
      }
    },
    {
      "cell_type": "markdown",
      "source": [
        "### without Cross Validation"
      ],
      "metadata": {
        "id": "aSrHHztC-TSz"
      }
    },
    {
      "cell_type": "markdown",
      "source": [
        "Executing a for loop to determine the value of max_depth parameter that gives the lowest RMSE value."
      ],
      "metadata": {
        "id": "q84LXisV_6pz"
      }
    },
    {
      "cell_type": "code",
      "source": [
        "# Creating random forest clasifier object\n",
        "RMSE = 0; md = 0; mae = 0; mse = 0\n",
        "for i in range(100):\n",
        "  rf = RandomForestRegressor(n_estimators=100, max_depth=(i+1), random_state=42)\n",
        "  rf.fit(X_train, y_train)\n",
        "  Y_pred = rf.predict(X_test)\n",
        "  rval =  np.sqrt(metrics.mean_squared_error(y_test, Y_pred))\n",
        "  if (i+1) == 1:\n",
        "    RMSE = rval\n",
        "  elif rval < RMSE:\n",
        "    RMSE = rval\n",
        "    md = i+1\n",
        "    mae  = metrics.mean_absolute_error(y_test, Y_pred)\n",
        "    mse = metrics.mean_squared_error(y_test, Y_pred)\n",
        "\n",
        "\n",
        "# Evaluation\n",
        "print(\"The RMSE value is {} for max_depth {} of the Random Forest model.\".format( RMSE,md))\n",
        "print('Mean Absolute Error:', mae)  \n",
        "print('Mean Squared Error:', mse)  "
      ],
      "metadata": {
        "id": "8M7aytnWDw9e",
        "colab": {
          "base_uri": "https://localhost:8080/"
        },
        "outputId": "1ffc16a5-de46-4405-86a1-50dc32384dff"
      },
      "execution_count": null,
      "outputs": [
        {
          "metadata": {
            "tags": null
          },
          "name": "stdout",
          "output_type": "stream",
          "text": [
            "The RMSE value is 33498.235212110114 for max_depth 17 of the Random Forest model.\n",
            "Mean Absolute Error: 21490.634205554958\n",
            "Mean Squared Error: 1122131762.3258538\n"
          ]
        }
      ]
    },
    {
      "cell_type": "markdown",
      "source": [
        "Re-training the model with max_depth = 17 obtained from previous step and predicting the y value from test dataset."
      ],
      "metadata": {
        "id": "OBJ8oJqOAJCF"
      }
    },
    {
      "cell_type": "code",
      "source": [
        "rf_new = RandomForestRegressor(n_estimators=100, max_depth=md, random_state=42)\n",
        "rf.fit(train_sel, train_df_y)\n",
        "Y_pred_new = rf.predict(test_sel)"
      ],
      "metadata": {
        "id": "TTI7QiYKARGR"
      },
      "execution_count": null,
      "outputs": []
    },
    {
      "cell_type": "code",
      "source": [
        "final_df = pd.DataFrame(columns={'ID':int, 'Predicted_Sales_Price':float})\n",
        "#test_id = test_id.reset_index()\n",
        "id = 0\n",
        "for i in range(len(test_sel)):\n",
        "  id = test_id['Id'][i]\n",
        "  final_df = final_df.append({'ID': id, 'Predicted_Sales_Price': Y_pred_new[i]}, ignore_index=True)\n",
        "final_df['ID'] = final_df['ID'].astype(int)"
      ],
      "metadata": {
        "id": "f7ehduHWFj2D"
      },
      "execution_count": null,
      "outputs": []
    },
    {
      "cell_type": "code",
      "source": [
        "final_df"
      ],
      "metadata": {
        "colab": {
          "base_uri": "https://localhost:8080/",
          "height": 423
        },
        "id": "U3pNvi7MT3wq",
        "outputId": "9cb8739f-0fbc-42ab-eb8a-4dfd5b4b4492"
      },
      "execution_count": null,
      "outputs": [
        {
          "output_type": "execute_result",
          "data": {
            "text/plain": [
              "        ID  Predicted_Sales_Price\n",
              "0     1461              145797.09\n",
              "1     1462              180998.92\n",
              "2     1463              159790.07\n",
              "3     1464              186849.54\n",
              "4     1465              192784.56\n",
              "...    ...                    ...\n",
              "1376  2912              158175.22\n",
              "1377  2913               94719.70\n",
              "1378  2916               95648.21\n",
              "1379  2917              170959.09\n",
              "1380  2919              216978.86\n",
              "\n",
              "[1381 rows x 2 columns]"
            ],
            "text/html": [
              "\n",
              "  <div id=\"df-39d2a9f6-0075-4963-aada-cc55f2725bbf\">\n",
              "    <div class=\"colab-df-container\">\n",
              "      <div>\n",
              "<style scoped>\n",
              "    .dataframe tbody tr th:only-of-type {\n",
              "        vertical-align: middle;\n",
              "    }\n",
              "\n",
              "    .dataframe tbody tr th {\n",
              "        vertical-align: top;\n",
              "    }\n",
              "\n",
              "    .dataframe thead th {\n",
              "        text-align: right;\n",
              "    }\n",
              "</style>\n",
              "<table border=\"1\" class=\"dataframe\">\n",
              "  <thead>\n",
              "    <tr style=\"text-align: right;\">\n",
              "      <th></th>\n",
              "      <th>ID</th>\n",
              "      <th>Predicted_Sales_Price</th>\n",
              "    </tr>\n",
              "  </thead>\n",
              "  <tbody>\n",
              "    <tr>\n",
              "      <th>0</th>\n",
              "      <td>1461</td>\n",
              "      <td>145797.09</td>\n",
              "    </tr>\n",
              "    <tr>\n",
              "      <th>1</th>\n",
              "      <td>1462</td>\n",
              "      <td>180998.92</td>\n",
              "    </tr>\n",
              "    <tr>\n",
              "      <th>2</th>\n",
              "      <td>1463</td>\n",
              "      <td>159790.07</td>\n",
              "    </tr>\n",
              "    <tr>\n",
              "      <th>3</th>\n",
              "      <td>1464</td>\n",
              "      <td>186849.54</td>\n",
              "    </tr>\n",
              "    <tr>\n",
              "      <th>4</th>\n",
              "      <td>1465</td>\n",
              "      <td>192784.56</td>\n",
              "    </tr>\n",
              "    <tr>\n",
              "      <th>...</th>\n",
              "      <td>...</td>\n",
              "      <td>...</td>\n",
              "    </tr>\n",
              "    <tr>\n",
              "      <th>1376</th>\n",
              "      <td>2912</td>\n",
              "      <td>158175.22</td>\n",
              "    </tr>\n",
              "    <tr>\n",
              "      <th>1377</th>\n",
              "      <td>2913</td>\n",
              "      <td>94719.70</td>\n",
              "    </tr>\n",
              "    <tr>\n",
              "      <th>1378</th>\n",
              "      <td>2916</td>\n",
              "      <td>95648.21</td>\n",
              "    </tr>\n",
              "    <tr>\n",
              "      <th>1379</th>\n",
              "      <td>2917</td>\n",
              "      <td>170959.09</td>\n",
              "    </tr>\n",
              "    <tr>\n",
              "      <th>1380</th>\n",
              "      <td>2919</td>\n",
              "      <td>216978.86</td>\n",
              "    </tr>\n",
              "  </tbody>\n",
              "</table>\n",
              "<p>1381 rows × 2 columns</p>\n",
              "</div>\n",
              "      <button class=\"colab-df-convert\" onclick=\"convertToInteractive('df-39d2a9f6-0075-4963-aada-cc55f2725bbf')\"\n",
              "              title=\"Convert this dataframe to an interactive table.\"\n",
              "              style=\"display:none;\">\n",
              "        \n",
              "  <svg xmlns=\"http://www.w3.org/2000/svg\" height=\"24px\"viewBox=\"0 0 24 24\"\n",
              "       width=\"24px\">\n",
              "    <path d=\"M0 0h24v24H0V0z\" fill=\"none\"/>\n",
              "    <path d=\"M18.56 5.44l.94 2.06.94-2.06 2.06-.94-2.06-.94-.94-2.06-.94 2.06-2.06.94zm-11 1L8.5 8.5l.94-2.06 2.06-.94-2.06-.94L8.5 2.5l-.94 2.06-2.06.94zm10 10l.94 2.06.94-2.06 2.06-.94-2.06-.94-.94-2.06-.94 2.06-2.06.94z\"/><path d=\"M17.41 7.96l-1.37-1.37c-.4-.4-.92-.59-1.43-.59-.52 0-1.04.2-1.43.59L10.3 9.45l-7.72 7.72c-.78.78-.78 2.05 0 2.83L4 21.41c.39.39.9.59 1.41.59.51 0 1.02-.2 1.41-.59l7.78-7.78 2.81-2.81c.8-.78.8-2.07 0-2.86zM5.41 20L4 18.59l7.72-7.72 1.47 1.35L5.41 20z\"/>\n",
              "  </svg>\n",
              "      </button>\n",
              "      \n",
              "  <style>\n",
              "    .colab-df-container {\n",
              "      display:flex;\n",
              "      flex-wrap:wrap;\n",
              "      gap: 12px;\n",
              "    }\n",
              "\n",
              "    .colab-df-convert {\n",
              "      background-color: #E8F0FE;\n",
              "      border: none;\n",
              "      border-radius: 50%;\n",
              "      cursor: pointer;\n",
              "      display: none;\n",
              "      fill: #1967D2;\n",
              "      height: 32px;\n",
              "      padding: 0 0 0 0;\n",
              "      width: 32px;\n",
              "    }\n",
              "\n",
              "    .colab-df-convert:hover {\n",
              "      background-color: #E2EBFA;\n",
              "      box-shadow: 0px 1px 2px rgba(60, 64, 67, 0.3), 0px 1px 3px 1px rgba(60, 64, 67, 0.15);\n",
              "      fill: #174EA6;\n",
              "    }\n",
              "\n",
              "    [theme=dark] .colab-df-convert {\n",
              "      background-color: #3B4455;\n",
              "      fill: #D2E3FC;\n",
              "    }\n",
              "\n",
              "    [theme=dark] .colab-df-convert:hover {\n",
              "      background-color: #434B5C;\n",
              "      box-shadow: 0px 1px 3px 1px rgba(0, 0, 0, 0.15);\n",
              "      filter: drop-shadow(0px 1px 2px rgba(0, 0, 0, 0.3));\n",
              "      fill: #FFFFFF;\n",
              "    }\n",
              "  </style>\n",
              "\n",
              "      <script>\n",
              "        const buttonEl =\n",
              "          document.querySelector('#df-39d2a9f6-0075-4963-aada-cc55f2725bbf button.colab-df-convert');\n",
              "        buttonEl.style.display =\n",
              "          google.colab.kernel.accessAllowed ? 'block' : 'none';\n",
              "\n",
              "        async function convertToInteractive(key) {\n",
              "          const element = document.querySelector('#df-39d2a9f6-0075-4963-aada-cc55f2725bbf');\n",
              "          const dataTable =\n",
              "            await google.colab.kernel.invokeFunction('convertToInteractive',\n",
              "                                                     [key], {});\n",
              "          if (!dataTable) return;\n",
              "\n",
              "          const docLinkHtml = 'Like what you see? Visit the ' +\n",
              "            '<a target=\"_blank\" href=https://colab.research.google.com/notebooks/data_table.ipynb>data table notebook</a>'\n",
              "            + ' to learn more about interactive tables.';\n",
              "          element.innerHTML = '';\n",
              "          dataTable['output_type'] = 'display_data';\n",
              "          await google.colab.output.renderOutput(dataTable, element);\n",
              "          const docLink = document.createElement('div');\n",
              "          docLink.innerHTML = docLinkHtml;\n",
              "          element.appendChild(docLink);\n",
              "        }\n",
              "      </script>\n",
              "    </div>\n",
              "  </div>\n",
              "  "
            ]
          },
          "metadata": {},
          "execution_count": 233
        }
      ]
    }
  ]
}